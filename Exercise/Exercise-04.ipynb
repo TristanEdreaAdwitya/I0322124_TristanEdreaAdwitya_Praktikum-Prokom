{
 "cells": [
  {
   "cell_type": "code",
   "execution_count": 1,
   "metadata": {},
   "outputs": [
    {
     "name": "stdout",
     "output_type": "stream",
     "text": [
      "Tristan Edrea Adwitya\n",
      "I0322124\n",
      "Kelas D\n"
     ]
    }
   ],
   "source": [
    "print(input(\"Nama: \"))\n",
    "print(input(\"NIM: \"))\n",
    "print(input(\"Kelas: \"))"
   ]
  },
  {
   "attachments": {},
   "cell_type": "markdown",
   "metadata": {},
   "source": [
    "## 1."
   ]
  },
  {
   "attachments": {},
   "cell_type": "markdown",
   "metadata": {},
   "source": [
    "Buatlah program yang menampilkan salam “Selamat Pagi” dari berbagai negara {Inggris, Perancis, Italia, Spanyol, Jepang, Korea} dengan dua input dari user yaitu bahasa dan diikuti nama user.<br>\n",
    "<br>Ex : \n",
    "<br>\"Ohayou, Onii Chan\"\n",
    "> *note: Kerjakan soal ini dengan percabangan*"
   ]
  },
  {
   "cell_type": "code",
   "execution_count": 1,
   "metadata": {},
   "outputs": [
    {
     "name": "stdout",
     "output_type": "stream",
     "text": [
      "Buen día Tristan\n"
     ]
    }
   ],
   "source": [
    "# Kerjakan soal nomor 1 disini\n",
    "Nama = str(input(\"siapa nama kamu ?\"))\n",
    "Bahasa = str.lower(input(\"Dalam bahasa apa kamu ingin diucapkan selamat pagi? (Inggris, Perancis, Italia, Spanyol, Jepang, Korea\"))\n",
    "#Bahasa \n",
    "if Bahasa == \"inggris\" :\n",
    "    print(\"Good Morning\", Nama)\n",
    "elif Bahasa == \"perancis\" :\n",
    "    print(\"Bonjour\", Nama)\n",
    "elif Bahasa == \"italia\" :\n",
    "    print(\"Buongiorno\", Nama)\n",
    "elif Bahasa == \"spanyol\" :\n",
    "    print(\"Buen día\", Nama)\n",
    "elif Bahasa == \"jepang\" :\n",
    "    print(\"おはよう\", Nama)\n",
    "elif Bahasa == \"korea\" :\n",
    "    print(\"좋은 아침이에요\", Nama)\n"
   ]
  },
  {
   "attachments": {},
   "cell_type": "markdown",
   "metadata": {},
   "source": [
    "## 2."
   ]
  },
  {
   "attachments": {},
   "cell_type": "markdown",
   "metadata": {},
   "source": [
    "Buatlah program perhitungan umur dengan menggunakan input user yaitu tahun lahir dari user.<br>\n",
    "<br>Output yang dihasilkan adalah sebagai berikut:\n",
    "<br>\"Apakah anda berasal dari masa depan?\"\n",
    "<br>\"Anda barusaja lahir\"\n",
    "<br>\"Umur Anda adalah xx tahun\"\n",
    "> *note: Kerjakan soal ini dengan percabangan*"
   ]
  },
  {
   "cell_type": "code",
   "execution_count": 16,
   "metadata": {},
   "outputs": [
    {
     "name": "stdout",
     "output_type": "stream",
     "text": [
      "Umur Anda adalah 19 tahun\n"
     ]
    }
   ],
   "source": [
    "# Kerjakan soal nomor 2 disini\n",
    "Tahun = int(input(\"Pada tahun berapa anda lahir ?\"))\n",
    "\n",
    "if Tahun > 2023 :\n",
    "    print(\"Apakah anda berasal dari masa depan?\")\n",
    "elif Tahun == 2023 :\n",
    "    print(\"Anda baru saja lahir\")\n",
    "elif Tahun < 2023 :\n",
    "    print(\"Umur Anda adalah\", 2023-Tahun, \"tahun\")\n"
   ]
  }
 ],
 "metadata": {
  "kernelspec": {
   "display_name": "Python 3",
   "language": "python",
   "name": "python3"
  },
  "language_info": {
   "codemirror_mode": {
    "name": "ipython",
    "version": 3
   },
   "file_extension": ".py",
   "mimetype": "text/x-python",
   "name": "python",
   "nbconvert_exporter": "python",
   "pygments_lexer": "ipython3",
   "version": "3.11.2"
  },
  "orig_nbformat": 4
 },
 "nbformat": 4,
 "nbformat_minor": 2
}
