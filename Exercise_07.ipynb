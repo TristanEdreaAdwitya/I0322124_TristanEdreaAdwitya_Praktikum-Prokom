{
 "cells": [
  {
   "cell_type": "code",
   "execution_count": 2,
   "metadata": {},
   "outputs": [
    {
     "data": {
      "text/plain": [
       "[[1, 2], [3, 4]]"
      ]
     },
     "execution_count": 2,
     "metadata": {},
     "output_type": "execute_result"
    }
   ],
   "source": [
    "#Buatlah sebuah fungsi untuk membuat matrix berdasarkan input dari user\n",
    "\n",
    "def create_matrix(baris,kolom):\n",
    "    matrix = []\n",
    "    #Tulis kode kamu disini\n",
    "    for i in range(baris):\n",
    "     matrix.append([])\n",
    "\n",
    "     for j in range(kolom):\n",
    "        elemen = int(input(f\"Masukkan elemen matriks[{i}][{j}]: \"))\n",
    "        matrix[i].append(elemen)\n",
    "\n",
    "    return matrix\n",
    "\n",
    "baris = int(input('Masukkan Jumlah Baris:\\t'))\n",
    "kolom = int(input('Masukkan Jumlah Kolom:\\t'))\n",
    "\n",
    "create_matrix(baris,kolom)"
   ]
  },
  {
   "cell_type": "code",
   "execution_count": 25,
   "metadata": {},
   "outputs": [
    {
     "name": "stdout",
     "output_type": "stream",
     "text": [
      "[[0.5, 0.0], [-1.0, 1.0]]\n"
     ]
    }
   ],
   "source": [
    "#Buatlah sebuah fungsi untuk mencari invers matrix berdasarkan input matrix dari user\n",
    "def create_matrix(baris,kolom):\n",
    "    matrix = []\n",
    "    #Tulis kode kamu disini\n",
    "    for i in range(baris):\n",
    "     matrix.append([])\n",
    "\n",
    "     for j in range(kolom):\n",
    "        elemen = int(input(f\"Masukkan elemen matriks[{i}][{j}]: \"))\n",
    "        matrix[i].append(elemen)\n",
    "\n",
    "    return matrix\n",
    "\n",
    "baris = int(input('Masukkan Jumlah Baris:\\t'))\n",
    "kolom = int(input('Masukkan Jumlah Kolom:\\t'))\n",
    "\n",
    "def invers(matriks):\n",
    "    x = len(matriks)\n",
    "    idy = [[float(i==j) for j in range(x)] for i in range(x)]\n",
    "    \n",
    "\n",
    "    for i in range(x):\n",
    "        if matriks[i][i] == 0:\n",
    "            for j in range(i+1, x):\n",
    "                if matriks[j][i] != 0:\n",
    "                    matriks[i], matriks[j] = matriks[j], matriks[i]\n",
    "                    idy[i], idy[j] = idy[j], idy[i]\n",
    "                    break\n",
    "                else:\n",
    "                    return None\n",
    "        \n",
    "        faktor = matriks[i][i]\n",
    "        for j in range(i, x):\n",
    "            matriks[i][j] /= faktor\n",
    "        for j in range(x):\n",
    "            idy[i][j] /= faktor\n",
    "        \n",
    "        for j in range(x):\n",
    "            if i == j:\n",
    "                continue\n",
    "            faktor = matriks[j][i]\n",
    "            for x in range(i, x):\n",
    "                matriks[j][x] -= faktor * matriks[i][x]\n",
    "            for x in range(x):\n",
    "                idy[j][x] -= faktor * idy[i][x]\n",
    "    \n",
    "    return idy\n",
    "Hasil_Matrix = create_matrix(baris,kolom)\n",
    "print(invers(Hasil_Matrix))"
   ]
  },
  {
   "cell_type": "code",
   "execution_count": 22,
   "metadata": {},
   "outputs": [
    {
     "name": "stdout",
     "output_type": "stream",
     "text": [
      "matriks asal adalah : [[2, 2], [2, 2]]\n",
      "hasil bagi adalah 2\n"
     ]
    },
    {
     "data": {
      "text/plain": [
       "[[1.0, 1.0], [1.0, 1.0]]"
      ]
     },
     "execution_count": 22,
     "metadata": {},
     "output_type": "execute_result"
    }
   ],
   "source": [
    "#Buatlah Fungsi untuk melakukan pembagian matrix antar matrix berdasarkan input user menggunakan nested loop\n",
    "\n",
    "def pembagian_matriks(matrixasal, skalar):\n",
    "    pembagian = []\n",
    "    baris = int(input(\"jumlah row ?\\t\"))\n",
    "    kolom = int(input(\"jumlah col ?\\t\"))\n",
    "    matrixasal = create_matrix(baris,kolom)\n",
    "    print(\"matriks asal adalah :\",matrixasal)\n",
    "    print(\"hasil bagi adalah\", skalar)\n",
    "    for x in matrixasal:\n",
    "        matriksnya = []\n",
    "        for y in x:\n",
    "            perhitungan_bagi = y/skalar\n",
    "            matriksnya.append(perhitungan_bagi)\n",
    "        pembagian.append(matriksnya)\n",
    "    return pembagian\n",
    "\n",
    "matrixasal = []\n",
    "skalar = int(input(\"matriks asal mau dibagi berapa ?\"))\n",
    "\n",
    "pembagian_matriks(matrixasal, skalar)"
   ]
  }
 ],
 "metadata": {
  "kernelspec": {
   "display_name": "Python 3",
   "language": "python",
   "name": "python3"
  },
  "language_info": {
   "codemirror_mode": {
    "name": "ipython",
    "version": 3
   },
   "file_extension": ".py",
   "mimetype": "text/x-python",
   "name": "python",
   "nbconvert_exporter": "python",
   "pygments_lexer": "ipython3",
   "version": "3.11.2"
  },
  "orig_nbformat": 4
 },
 "nbformat": 4,
 "nbformat_minor": 2
}
